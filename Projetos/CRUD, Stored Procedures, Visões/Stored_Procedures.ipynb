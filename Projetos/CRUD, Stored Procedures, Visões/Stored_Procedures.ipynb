{
 "cells": [
  {
   "cell_type": "markdown",
   "metadata": {},
   "source": [
    "Abre conexão com um banco de dados já existente:"
   ]
  },
  {
   "cell_type": "code",
   "execution_count": 1,
   "metadata": {},
   "outputs": [],
   "source": [
    "import psycopg2\n",
    "\n",
    "def conectar_banco():\n",
    "  try:\n",
    "    conexao = psycopg2.connect(host='localhost', database='postgres', user='postgres', password='')\n",
    "  except psycopg2.DatabaseError as error:\n",
    "    print (error)\n",
    "  return conexao"
   ]
  },
  {
   "cell_type": "markdown",
   "metadata": {},
   "source": [
    "Função para executar um comando SQL:"
   ]
  },
  {
   "cell_type": "code",
   "execution_count": 2,
   "metadata": {},
   "outputs": [],
   "source": [
    "def comando_sql(SQL):\n",
    "    try:\n",
    "      con = conectar_banco()\n",
    "      cursor = con.cursor()\n",
    "      cursor.execute(SQL)\n",
    "      con.commit()\n",
    "      print(\"Comando realizado com sucesso!\")\n",
    "      cursor.close()\n",
    "      con.close()\n",
    "    except psycopg2.DatabaseError as error:\n",
    "      print (error)"
   ]
  },
  {
   "cell_type": "markdown",
   "metadata": {},
   "source": [
    "Função para executar um comando SQL (uma consulta). A função retorna um vetor com os resultados."
   ]
  },
  {
   "cell_type": "code",
   "execution_count": 11,
   "metadata": {},
   "outputs": [],
   "source": [
    "def consulta(SQL):\n",
    "  try:\n",
    "    con = conectar_banco()\n",
    "    cursor = con.cursor()\n",
    "    cursor.execute(SQL)\n",
    "    con.commit()\n",
    "    print(\"Comando realizado com sucesso!\")\n",
    "    resultado = cursor.fetchall()\n",
    "    cursor.close()\n",
    "    con.close()\n",
    "    print('')\n",
    "    print(\"Resultado da consulta:\")\n",
    "    if len(resultado) == 0:\n",
    "      print(\"Nao ha oque mostrar\")\n",
    "    else:\n",
    "      for i in resultado:\n",
    "        print(i)\n",
    "  except psycopg2.DatabaseError as error:\n",
    "      print (error)"
   ]
  },
  {
   "cell_type": "markdown",
   "metadata": {},
   "source": [
    "STORED PROCEDURES E VISÕES"
   ]
  },
  {
   "cell_type": "markdown",
   "metadata": {},
   "source": [
    "i. Crie uma visão materializada que tem como atributos o nome das disciplinas e a quantidade\n",
    "de turmas que foram ofertadas para cada uma dessas disciplinas."
   ]
  },
  {
   "cell_type": "code",
   "execution_count": null,
   "metadata": {},
   "outputs": [],
   "source": [
    "sql = '''\n",
    "CREATE MATERIALIZED VIEW turmaview AS\n",
    "SELECT d.nome , COUNT(t.cod_disc)\n",
    "FROM disciplinas d, turmas t\n",
    "WHERE d.cod_disc = t.cod_disc\n",
    "GROUP BY d.nome\n",
    "'''\n",
    "comando_sql(sql)"
   ]
  },
  {
   "cell_type": "markdown",
   "metadata": {},
   "source": [
    "Consulta da visão materializada:"
   ]
  },
  {
   "cell_type": "code",
   "execution_count": null,
   "metadata": {},
   "outputs": [],
   "source": [
    "sql = 'SELECT * FROM turmaview'\n",
    "consulta(sql)"
   ]
  },
  {
   "cell_type": "markdown",
   "metadata": {},
   "source": [
    "ii. Defina uma função que tem como parâmetro de entrada o nome de um professor e como saída\n",
    "todas as turmas e o respectivo ano em que elas foram ministradas por esse professor."
   ]
  },
  {
   "cell_type": "code",
   "execution_count": null,
   "metadata": {},
   "outputs": [],
   "source": [
    "sql = '''\n",
    "CREATE OR REPLACE FUNCTION mostrar_turmas_ano(nome_prof varchar)\n",
    "returns table(cod_turma int, ano varchar)\n",
    "language plpgsql\n",
    "as $$\n",
    "begin\n",
    "    return query SELECT t.cod_turma, t.ano \n",
    "    FROM  Professores p, Turmas t\n",
    "    WHERE p.nome = nome_prof AND p.cod_prof = t.cod_prof;\n",
    "\n",
    "end;$$\n",
    "'''\n",
    "\n",
    "comando_sql(sql)"
   ]
  },
  {
   "cell_type": "markdown",
   "metadata": {},
   "source": [
    "Insira um nome de um professor entre as 'aspas' para o teste:"
   ]
  },
  {
   "cell_type": "code",
   "execution_count": 27,
   "metadata": {},
   "outputs": [],
   "source": [
    "nome_prof = 'insira_aqui'"
   ]
  },
  {
   "cell_type": "markdown",
   "metadata": {},
   "source": [
    "Chamando a função e executando:"
   ]
  },
  {
   "cell_type": "code",
   "execution_count": null,
   "metadata": {},
   "outputs": [],
   "source": [
    "sql = \"SELECT * FROM mostrar_turmas_ano('%s')\" % nome_prof\n",
    "consulta(sql)"
   ]
  },
  {
   "cell_type": "markdown",
   "metadata": {},
   "source": [
    "iii. Defina uma função que tem como parâmetro de entrada o nome de um aluno e como saída o\n",
    "nome das disciplinas e a sua maior nota em cada disciplina que constam no seu histórico."
   ]
  },
  {
   "cell_type": "code",
   "execution_count": null,
   "metadata": {},
   "outputs": [],
   "source": [
    "sql = '''\n",
    "CREATE OR REPLACE FUNCTION mostrar_disc_nota(nome_alu varchar)\n",
    "returns table (nome varchar, nota int)\n",
    "language plpgsql\n",
    "as $$\n",
    "begin\n",
    "    return query SELECT d.nome, MAX(h.nota) \n",
    "    FROM disciplinas d, historico h, alunos a \n",
    "    WHERE a.nome = nome_alu AND a.mat = h.mat AND d.cod_disc = h.cod_disc\n",
    "    GROUP BY d.nome; \n",
    "end;$$\n",
    "'''\n",
    "\n",
    "comando_sql(sql)"
   ]
  },
  {
   "cell_type": "markdown",
   "metadata": {},
   "source": [
    "Insira um nome de um aluno entre as 'aspas' para o teste:"
   ]
  },
  {
   "cell_type": "code",
   "execution_count": 29,
   "metadata": {},
   "outputs": [],
   "source": [
    "nome_alu = 'insira_aqui'"
   ]
  },
  {
   "cell_type": "markdown",
   "metadata": {},
   "source": [
    "Chamando a função e executando:"
   ]
  },
  {
   "cell_type": "code",
   "execution_count": null,
   "metadata": {},
   "outputs": [],
   "source": [
    "sql = \"SELECT * FROM mostrar_disc_nota('%s')\" % nome_alu\n",
    "consulta(sql)"
   ]
  }
 ],
 "metadata": {
  "interpreter": {
   "hash": "6cad48aef6fabe5326ab8a2780ef45081116f6ff4c722c7dda7fdba88f5ecb26"
  },
  "kernelspec": {
   "display_name": "Python 3.10.1 64-bit",
   "language": "python",
   "name": "python3"
  },
  "language_info": {
   "codemirror_mode": {
    "name": "ipython",
    "version": 3
   },
   "file_extension": ".py",
   "mimetype": "text/x-python",
   "name": "python",
   "nbconvert_exporter": "python",
   "pygments_lexer": "ipython3",
   "version": "3.10.1"
  },
  "orig_nbformat": 4
 },
 "nbformat": 4,
 "nbformat_minor": 2
}
